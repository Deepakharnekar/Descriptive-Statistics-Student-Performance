{
 "cells": [
  {
   "cell_type": "code",
   "execution_count": 51,
   "id": "7176c39d-e930-45e8-8aac-c9af9cd07ad8",
   "metadata": {},
   "outputs": [],
   "source": [
    "import pandas as pd\n",
    "import matplotlib.pyplot as plt\n",
    "from scipy.stats import zscore\n",
    "\n",
    "df=pd.read_csv(r\"C:\\Users\\Hp\\student_performance_data.csv\")"
   ]
  },
  {
   "cell_type": "code",
   "execution_count": 4,
   "id": "108e8548-6794-489b-92a5-b2d6a5667e2b",
   "metadata": {},
   "outputs": [
    {
     "data": {
      "text/html": [
       "<div>\n",
       "<style scoped>\n",
       "    .dataframe tbody tr th:only-of-type {\n",
       "        vertical-align: middle;\n",
       "    }\n",
       "\n",
       "    .dataframe tbody tr th {\n",
       "        vertical-align: top;\n",
       "    }\n",
       "\n",
       "    .dataframe thead th {\n",
       "        text-align: right;\n",
       "    }\n",
       "</style>\n",
       "<table border=\"1\" class=\"dataframe\">\n",
       "  <thead>\n",
       "    <tr style=\"text-align: right;\">\n",
       "      <th></th>\n",
       "      <th>ID</th>\n",
       "      <th>Age</th>\n",
       "      <th>Gender</th>\n",
       "      <th>Hours_Studied</th>\n",
       "      <th>Attendance (%)</th>\n",
       "      <th>Assignments_Submitted</th>\n",
       "      <th>Midterm_Score</th>\n",
       "      <th>Final_Score</th>\n",
       "      <th>Projects_Done</th>\n",
       "      <th>Class_Participation (%)</th>\n",
       "    </tr>\n",
       "  </thead>\n",
       "  <tbody>\n",
       "    <tr>\n",
       "      <th>0</th>\n",
       "      <td>1</td>\n",
       "      <td>20</td>\n",
       "      <td>M</td>\n",
       "      <td>12</td>\n",
       "      <td>90</td>\n",
       "      <td>8</td>\n",
       "      <td>78</td>\n",
       "      <td>85</td>\n",
       "      <td>2</td>\n",
       "      <td>70</td>\n",
       "    </tr>\n",
       "    <tr>\n",
       "      <th>1</th>\n",
       "      <td>2</td>\n",
       "      <td>21</td>\n",
       "      <td>F</td>\n",
       "      <td>10</td>\n",
       "      <td>85</td>\n",
       "      <td>9</td>\n",
       "      <td>75</td>\n",
       "      <td>80</td>\n",
       "      <td>3</td>\n",
       "      <td>75</td>\n",
       "    </tr>\n",
       "    <tr>\n",
       "      <th>2</th>\n",
       "      <td>3</td>\n",
       "      <td>19</td>\n",
       "      <td>F</td>\n",
       "      <td>14</td>\n",
       "      <td>95</td>\n",
       "      <td>10</td>\n",
       "      <td>88</td>\n",
       "      <td>92</td>\n",
       "      <td>2</td>\n",
       "      <td>85</td>\n",
       "    </tr>\n",
       "    <tr>\n",
       "      <th>3</th>\n",
       "      <td>4</td>\n",
       "      <td>22</td>\n",
       "      <td>M</td>\n",
       "      <td>7</td>\n",
       "      <td>70</td>\n",
       "      <td>7</td>\n",
       "      <td>65</td>\n",
       "      <td>70</td>\n",
       "      <td>1</td>\n",
       "      <td>60</td>\n",
       "    </tr>\n",
       "    <tr>\n",
       "      <th>4</th>\n",
       "      <td>5</td>\n",
       "      <td>20</td>\n",
       "      <td>M</td>\n",
       "      <td>9</td>\n",
       "      <td>80</td>\n",
       "      <td>6</td>\n",
       "      <td>70</td>\n",
       "      <td>75</td>\n",
       "      <td>2</td>\n",
       "      <td>65</td>\n",
       "    </tr>\n",
       "    <tr>\n",
       "      <th>5</th>\n",
       "      <td>6</td>\n",
       "      <td>21</td>\n",
       "      <td>F</td>\n",
       "      <td>11</td>\n",
       "      <td>88</td>\n",
       "      <td>9</td>\n",
       "      <td>77</td>\n",
       "      <td>84</td>\n",
       "      <td>3</td>\n",
       "      <td>72</td>\n",
       "    </tr>\n",
       "    <tr>\n",
       "      <th>6</th>\n",
       "      <td>7</td>\n",
       "      <td>20</td>\n",
       "      <td>M</td>\n",
       "      <td>5</td>\n",
       "      <td>60</td>\n",
       "      <td>4</td>\n",
       "      <td>55</td>\n",
       "      <td>65</td>\n",
       "      <td>1</td>\n",
       "      <td>50</td>\n",
       "    </tr>\n",
       "    <tr>\n",
       "      <th>7</th>\n",
       "      <td>8</td>\n",
       "      <td>19</td>\n",
       "      <td>F</td>\n",
       "      <td>13</td>\n",
       "      <td>92</td>\n",
       "      <td>10</td>\n",
       "      <td>85</td>\n",
       "      <td>90</td>\n",
       "      <td>3</td>\n",
       "      <td>88</td>\n",
       "    </tr>\n",
       "    <tr>\n",
       "      <th>8</th>\n",
       "      <td>9</td>\n",
       "      <td>22</td>\n",
       "      <td>M</td>\n",
       "      <td>8</td>\n",
       "      <td>75</td>\n",
       "      <td>5</td>\n",
       "      <td>68</td>\n",
       "      <td>72</td>\n",
       "      <td>2</td>\n",
       "      <td>66</td>\n",
       "    </tr>\n",
       "    <tr>\n",
       "      <th>9</th>\n",
       "      <td>10</td>\n",
       "      <td>20</td>\n",
       "      <td>F</td>\n",
       "      <td>6</td>\n",
       "      <td>65</td>\n",
       "      <td>6</td>\n",
       "      <td>60</td>\n",
       "      <td>68</td>\n",
       "      <td>1</td>\n",
       "      <td>55</td>\n",
       "    </tr>\n",
       "  </tbody>\n",
       "</table>\n",
       "</div>"
      ],
      "text/plain": [
       "   ID  Age Gender  Hours_Studied  Attendance (%)  Assignments_Submitted  \\\n",
       "0   1   20      M             12              90                      8   \n",
       "1   2   21      F             10              85                      9   \n",
       "2   3   19      F             14              95                     10   \n",
       "3   4   22      M              7              70                      7   \n",
       "4   5   20      M              9              80                      6   \n",
       "5   6   21      F             11              88                      9   \n",
       "6   7   20      M              5              60                      4   \n",
       "7   8   19      F             13              92                     10   \n",
       "8   9   22      M              8              75                      5   \n",
       "9  10   20      F              6              65                      6   \n",
       "\n",
       "   Midterm_Score  Final_Score  Projects_Done  Class_Participation (%)  \n",
       "0             78           85              2                       70  \n",
       "1             75           80              3                       75  \n",
       "2             88           92              2                       85  \n",
       "3             65           70              1                       60  \n",
       "4             70           75              2                       65  \n",
       "5             77           84              3                       72  \n",
       "6             55           65              1                       50  \n",
       "7             85           90              3                       88  \n",
       "8             68           72              2                       66  \n",
       "9             60           68              1                       55  "
      ]
     },
     "execution_count": 4,
     "metadata": {},
     "output_type": "execute_result"
    }
   ],
   "source": [
    "df"
   ]
  },
  {
   "cell_type": "code",
   "execution_count": 20,
   "id": "fb175eb9-962e-406c-a01e-2d7c9d2653d7",
   "metadata": {},
   "outputs": [
    {
     "name": "stdout",
     "output_type": "stream",
     "text": [
      "1.Measure of Central Tendency...\n",
      "Mean of Hours_Studied : 9.5\n",
      "Median of Hours_Studied : 9.5\n",
      "Mode of Hours_Studied : [ 5  6  7  8  9 10 11 12 13 14]\n"
     ]
    }
   ],
   "source": [
    "print(\"1.Measure of Central Tendency...\")\n",
    "hoursstudied_mean=df['Hours_Studied'].mean()\n",
    "hoursstudied_median=df['Hours_Studied'].median()\n",
    "hoursstudied_mode=df['Hours_Studied'].mode().values\n",
    "print(f'Mean of Hours_Studied : {hoursstudied_mean}')\n",
    "print(f'Median of Hours_Studied : {hoursstudied_median}')\n",
    "print(f'Mode of Hours_Studied : {hoursstudied_mode}')\n"
   ]
  },
  {
   "cell_type": "code",
   "execution_count": 31,
   "id": "ea4cb76e-339d-4780-8059-9dbb1335df8a",
   "metadata": {},
   "outputs": [
    {
     "name": "stdout",
     "output_type": "stream",
     "text": [
      "2.Measure of variabilty...\n",
      "The Range : 27\n",
      "The Variance : 89.65555555555554\n",
      "The Standard Deviation : 9.46866176159839\n"
     ]
    }
   ],
   "source": [
    "print(\"2.Measure of variabilty...\")\n",
    "rng=df['Final_Score'].max()-df['Final_Score'].min()\n",
    "var=df['Final_Score'].var()\n",
    "std=df['Final_Score'].std()\n",
    "print(f'The Range : {rng}')\n",
    "print(f'The Variance : {var}')\n",
    "print(f'The Standard Deviation : {std}')"
   ]
  },
  {
   "cell_type": "code",
   "execution_count": 45,
   "id": "d5b3a9c3-fbf2-4faf-9d35-3bd70b5c39bb",
   "metadata": {},
   "outputs": [
    {
     "name": "stdout",
     "output_type": "stream",
     "text": [
      "3.Frequency Distribution...\n",
      "Gender Frequency Count :\n",
      "Gender\n",
      "M    5\n",
      "F    5\n",
      "Name: count, dtype: int64\n",
      "\n",
      "Assignments submmition Frequency Count :\n",
      "Assignments_Submitted\n",
      "9     2\n",
      "10    2\n",
      "6     2\n",
      "8     1\n",
      "7     1\n",
      "4     1\n",
      "5     1\n",
      "Name: count, dtype: int64\n"
     ]
    }
   ],
   "source": [
    "print(\"3.Frequency Distribution...\")\n",
    "Gender_frq=df['Gender'].value_counts()\n",
    "assub_frq=df['Assignments_Submitted'].value_counts()\n",
    "print(f'Gender Frequency Count :\\n{Gender_frq}')\n",
    "print()\n",
    "print(f'Assignments submmition Frequency Count :\\n{assub_frq}')"
   ]
  },
  {
   "cell_type": "code",
   "execution_count": 62,
   "id": "da289615-5962-463f-9fe5-ad727cdea39b",
   "metadata": {},
   "outputs": [
    {
     "name": "stdout",
     "output_type": "stream",
     "text": [
      "4.Box plot\n"
     ]
    },
    {
     "data": {
      "image/png": "[encoded data removed]",
      "text/plain": [
       "<Figure size 1000x400 with 2 Axes>"
      ]
     },
     "metadata": {},
     "output_type": "display_data"
    }
   ],
   "source": [
    "print(\"4.Box plot\")\n",
    "#Box Plot\n",
    "plt.figure(figsize=(10,4))\n",
    "\n",
    "plt.subplot(1,2,1)\n",
    "plt.boxplot(df['Hours_Studied'])\n",
    "plt.title(\"Box plot\")\n",
    "plt.xlabel('Study hours')\n",
    "plt.ylabel('student')\n",
    "\n",
    "#Hist Plot\n",
    "#plt.figure(figsize=(10,4)) --- defined only once...\n",
    "\n",
    "plt.subplot(1,2,2)\n",
    "plt.hist(df['Hours_Studied'],edgecolor='black',bins=5)\n",
    "plt.title(\"Histogram\")\n",
    "plt.xlabel('Study hours')\n",
    "plt.ylabel('Frequency')\n",
    "plt.show()"
   ]
  },
  {
   "cell_type": "code",
   "execution_count": 69,
   "id": "9b4f6028-8794-4e0c-ae6d-93e43e145691",
   "metadata": {},
   "outputs": [
    {
     "name": "stdout",
     "output_type": "stream",
     "text": [
      "5.Correlation Analysis...\n",
      "Correlation Between Hours_Studied and Final Score : 0.9941468423771584\n",
      "which is nearer to 1 so it is perfect positive Correlation..\n",
      "0.9116524230131285\n"
     ]
    }
   ],
   "source": [
    "print(\"5.Correlation Analysis...\")\n",
    "correlation=df['Hours_Studied'].corr(df['Final_Score'])\n",
    "print(f'Correlation Between Hours_Studied and Final Score : {correlation}')\n",
    "print(f'which is nearer to 1 so it is perfect positive Correlation..')\n",
    "print(df['Assignments_Submitted'].corr(df['Final_Score']))"
   ]
  },
  {
   "cell_type": "code",
   "execution_count": 14,
   "id": "1ddf7941-c69a-4d85-807a-bd3eed6ee532",
   "metadata": {},
   "outputs": [
    {
     "name": "stdout",
     "output_type": "stream",
     "text": [
      "6.Z-Score Analysis or Normalization\n"
     ]
    }
   ],
   "source": [
    "print(\"6.Z-Score Analysis or Normalization\")\n",
    "df['z_score']=zscore(df['Hours_Studied'])"
   ]
  },
  {
   "cell_type": "code",
   "execution_count": 15,
   "id": "b5cc8a48-c3be-42f9-aaf3-8480b6855dc6",
   "metadata": {},
   "outputs": [
    {
     "data": {
      "text/plain": [
       "0    0.870388\n",
       "1    0.174078\n",
       "2    1.566699\n",
       "3   -0.870388\n",
       "4   -0.174078\n",
       "5    0.522233\n",
       "6   -1.566699\n",
       "7    1.218544\n",
       "8   -0.522233\n",
       "9   -1.218544\n",
       "Name: z_score, dtype: float64"
      ]
     },
     "execution_count": 15,
     "metadata": {},
     "output_type": "execute_result"
    }
   ],
   "source": [
    "df['z_score']"
   ]
  },
  {
   "cell_type": "code",
   "execution_count": 34,
   "id": "44c359d5-047e-44a2-9bd6-0a14545697dd",
   "metadata": {},
   "outputs": [
    {
     "name": "stdout",
     "output_type": "stream",
     "text": [
      "outliers in hours_studied..\n",
      "   ID  Age Gender  Hours_Studied  Attendance (%)  Assignments_Submitted  \\\n",
      "0   1   20      M             12              90                      8   \n",
      "1   2   21      F             10              85                      9   \n",
      "2   3   19      F             14              95                     10   \n",
      "3   4   22      M              7              70                      7   \n",
      "4   5   20      M              9              80                      6   \n",
      "5   6   21      F             11              88                      9   \n",
      "6   7   20      M              5              60                      4   \n",
      "7   8   19      F             13              92                     10   \n",
      "8   9   22      M              8              75                      5   \n",
      "9  10   20      F              6              65                      6   \n",
      "\n",
      "   Midterm_Score  Final_Score  Projects_Done  Class_Participation (%)  \\\n",
      "0             78           85              2                       70   \n",
      "1             75           80              3                       75   \n",
      "2             88           92              2                       85   \n",
      "3             65           70              1                       60   \n",
      "4             70           75              2                       65   \n",
      "5             77           84              3                       72   \n",
      "6             55           65              1                       50   \n",
      "7             85           90              3                       88   \n",
      "8             68           72              2                       66   \n",
      "9             60           68              1                       55   \n",
      "\n",
      "    z_score  \n",
      "0  0.870388  \n",
      "1  0.174078  \n",
      "2  1.566699  \n",
      "3 -0.870388  \n",
      "4 -0.174078  \n",
      "5  0.522233  \n",
      "6 -1.566699  \n",
      "7  1.218544  \n",
      "8 -0.522233  \n",
      "9 -1.218544  \n"
     ]
    }
   ],
   "source": [
    "Q1=df['Hours_Studied'].quantile(0.25)\n",
    "Q3=df['Hours_Studied'].quantile(0.75)\n",
    "IQR=Q3-Q1\n",
    "\n",
    "lower_bound=(Q1-1.5)*IQR\n",
    "upper_bound=(Q3+1.5)*IQR\n",
    "\n",
    "#filter outliers\n",
    "outliers=df[(df['Hours_Studied'] < lower_bound) | (df['Hours_Studied'] > upper_bound)]#do not use or instead use |\n",
    "print(\"outliers in hours_studied..\")\n",
    "print(outliers)"
   ]
  },
  {
   "cell_type": "code",
   "execution_count": 49,
   "id": "39c45a2f-9161-4591-9fb4-ce16a51f1ee8",
   "metadata": {},
   "outputs": [
    {
     "name": "stdout",
     "output_type": "stream",
     "text": [
      "Top 3 Scorer\n",
      "   id  Final_Score\n",
      "2   3           92\n",
      "7   8           90\n",
      "0   1           85\n",
      "\n",
      "student with above 85 marks\n",
      "   id  Final_Score\n",
      "2   3           92\n",
      "7   8           90\n"
     ]
    }
   ],
   "source": [
    "data = {'id':list(range(1,11)),\n",
    "      'Final_Score':df['Final_Score']}\n",
    "df = pd.DataFrame(data)\n",
    "top3 = df.sort_values(by='Final_Score', ascending=False).head(3)\n",
    "above_85 = df[(df['Final_Score']>85)]\n",
    "print(\"Top 3 Scorer\")\n",
    "print(top3)\n",
    "print()\n",
    "print(\"student with above 85 marks\")\n",
    "print(above_85)"
   ]
  },
  {
   "cell_type": "code",
   "execution_count": 52,
   "id": "b969516f-7f37-467a-a8ec-cf055bd96148",
   "metadata": {},
   "outputs": [
    {
     "name": "stdout",
     "output_type": "stream",
     "text": [
      "        Final_Score\n",
      "Gender             \n",
      "F              82.8\n",
      "M              73.4\n"
     ]
    }
   ],
   "source": [
    "pivot=df.pivot_table(values='Final_Score',index='Gender',aggfunc='mean')\n",
    "print(pivot)"
   ]
  },
  {
   "cell_type": "code",
   "execution_count": 55,
   "id": "7358b213-7e2b-43f8-9076-45ac26e54954",
   "metadata": {},
   "outputs": [
    {
     "name": "stdout",
     "output_type": "stream",
     "text": [
      "summary Report\n",
      "             ID        Age  Hours_Studied  Attendance (%)  \\\n",
      "count  10.00000  10.000000       10.00000       10.000000   \n",
      "mean    5.50000  20.400000        9.50000       80.000000   \n",
      "std     3.02765   1.074968        3.02765       12.055428   \n",
      "min     1.00000  19.000000        5.00000       60.000000   \n",
      "25%     3.25000  20.000000        7.25000       71.250000   \n",
      "50%     5.50000  20.000000        9.50000       82.500000   \n",
      "75%     7.75000  21.000000       11.75000       89.500000   \n",
      "max    10.00000  22.000000       14.00000       95.000000   \n",
      "\n",
      "       Assignments_Submitted  Midterm_Score  Final_Score  Projects_Done  \\\n",
      "count                10.0000      10.000000    10.000000      10.000000   \n",
      "mean                  7.4000      72.100000    78.100000       2.000000   \n",
      "std                   2.1187      10.524574     9.468662       0.816497   \n",
      "min                   4.0000      55.000000    65.000000       1.000000   \n",
      "25%                   6.0000      65.750000    70.500000       1.250000   \n",
      "50%                   7.5000      72.500000    77.500000       2.000000   \n",
      "75%                   9.0000      77.750000    84.750000       2.750000   \n",
      "max                  10.0000      88.000000    92.000000       3.000000   \n",
      "\n",
      "       Class_Participation (%)  \n",
      "count                10.000000  \n",
      "mean                 68.600000  \n",
      "std                  12.130769  \n",
      "min                  50.000000  \n",
      "25%                  61.250000  \n",
      "50%                  68.000000  \n",
      "75%                  74.250000  \n",
      "max                  88.000000  \n"
     ]
    }
   ],
   "source": [
    "print(\"summary Report\")\n",
    "df=pd.read_csv(r\"C:\\Users\\Hp\\student_performance_data.csv\")\n",
    "summery=df.describe()\n",
    "print(summery)"
   ]
  },
  {
   "cell_type": "code",
   "execution_count": null,
   "id": "2f8bdd6f-0b52-42c5-8c07-f4445f741c4d",
   "metadata": {},
   "outputs": [],
   "source": []
  }
 ],
 "metadata": {
  "kernelspec": {
   "display_name": "Python 3 (ipykernel)",
   "language": "python",
   "name": "python3"
  },
  "language_info": {
   "codemirror_mode": {
    "name": "ipython",
    "version": 3
   },
   "file_extension": ".py",
   "mimetype": "text/x-python",
   "name": "python",
   "nbconvert_exporter": "python",
   "pygments_lexer": "ipython3",
   "version": "3.12.7"
  }
 },
 "nbformat": 4,
 "nbformat_minor": 5
}
